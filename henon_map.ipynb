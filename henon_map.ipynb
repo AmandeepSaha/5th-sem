{
 "cells": [
  {
   "cell_type": "markdown",
   "metadata": {},
   "source": [
    "# Henon Map\n",
    "\n",
    "$$x_{n+1} = 1 - ax^2 + y_n \\\\\n",
    "y_{n+1} = bx_n$$"
   ]
  },
  {
   "cell_type": "code",
   "execution_count": 2,
   "metadata": {},
   "outputs": [],
   "source": [
    "import numpy as np\n",
    "import matplotlib.pyplot as plt\n",
    "from scipy.integrate import odeint"
   ]
  },
  {
   "cell_type": "code",
   "execution_count": 3,
   "metadata": {},
   "outputs": [
    {
     "name": "stderr",
     "output_type": "stream",
     "text": [
      "C:\\Users\\hp\\AppData\\Local\\Temp\\ipykernel_9788\\1730246984.py:2: RuntimeWarning: overflow encountered in square\n",
      "  return np.array([1-a*x**2+y,b*x])\n"
     ]
    },
    {
     "data": {
      "image/png": "[encoded data removed]",
      "text/plain": [
       "<Figure size 432x288 with 1 Axes>"
      ]
     },
     "metadata": {
      "needs_background": "light"
     },
     "output_type": "display_data"
    }
   ],
   "source": [
    "def map(x,y,a,b):\n",
    "    return np.array([1-a*x**2+y,b*x])\n",
    "\n",
    "I = 1000\n",
    "n = 1000\n",
    "k = 200\n",
    "b = 0.3\n",
    "a = np.linspace(0,1.5,I)\n",
    "x = 0.5*np.ones(n)\n",
    "y = 0.5*np.ones(n)\n",
    "\n",
    "for i in range(n):\n",
    "    x,y = map(x,y,a,b)\n",
    "    if i>(I-k):\n",
    "        plt.plot(a,x,\",g\")\n",
    "plt.title(\"Henon Map\")\n",
    "plt.show()"
   ]
  }
 ],
 "metadata": {
  "kernelspec": {
   "display_name": "Python 3",
   "language": "python",
   "name": "python3"
  },
  "language_info": {
   "codemirror_mode": {
    "name": "ipython",
    "version": 3
   },
   "file_extension": ".py",
   "mimetype": "text/x-python",
   "name": "python",
   "nbconvert_exporter": "python",
   "pygments_lexer": "ipython3",
   "version": "3.10.8"
  }
 },
 "nbformat": 4,
 "nbformat_minor": 2
}
