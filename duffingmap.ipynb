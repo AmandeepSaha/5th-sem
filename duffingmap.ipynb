{
 "cells": [
  {
   "cell_type": "markdown",
   "metadata": {},
   "source": [
    "# Duffing Map\n",
    "$$x_{n+1} = y_{n}\\\\\n",
    "y_{n+1} = -bx_{n}+ay_{n}-{y_{n}}^{3}$$"
   ]
  },
  {
   "cell_type": "code",
   "execution_count": 4,
   "metadata": {},
   "outputs": [],
   "source": [
    "import numpy as np\n",
    "import matplotlib.pyplot as plt\n",
    "from scipy.integrate import odeint"
   ]
  },
  {
   "cell_type": "code",
   "execution_count": 5,
   "metadata": {},
   "outputs": [],
   "source": [
    "def map(x,y,a,b):\n",
    "    return np.array([y,-b*x+a*y-y**3])"
   ]
  },
  {
   "cell_type": "code",
   "execution_count": 6,
   "metadata": {},
   "outputs": [
    {
     "data": {
      "image/png": "[encoded data removed]",
      "text/plain": [
       "<Figure size 432x288 with 1 Axes>"
      ]
     },
     "metadata": {
      "needs_background": "light"
     },
     "output_type": "display_data"
    }
   ],
   "source": [
    "I = 1000\n",
    "n = 1000\n",
    "k = 500\n",
    "b = 0.2\n",
    "a = np.linspace(1,2.77,n)\n",
    "x = 0.5*np.ones(n)\n",
    "y = 0.5*np.ones(n)\n",
    "\n",
    "for i in range(n):\n",
    "    x,y = map(x,y,a,b)\n",
    "    if i > (I-k):\n",
    "        plt.plot(a,x,',g')\n",
    "plt.grid()\n",
    "plt.title(\"Duffing Map\")\n",
    "plt.show()"
   ]
  }
 ],
 "metadata": {
  "kernelspec": {
   "display_name": "Python 3",
   "language": "python",
   "name": "python3"
  },
  "language_info": {
   "codemirror_mode": {
    "name": "ipython",
    "version": 3
   },
   "file_extension": ".py",
   "mimetype": "text/x-python",
   "name": "python",
   "nbconvert_exporter": "python",
   "pygments_lexer": "ipython3",
   "version": "3.10.8"
  }
 },
 "nbformat": 4,
 "nbformat_minor": 2
}
